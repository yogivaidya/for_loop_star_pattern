{
 "cells": [
  {
   "cell_type": "code",
   "execution_count": 1,
   "metadata": {},
   "outputs": [
    {
     "data": {
      "text/plain": [
       "'\\n *\\n * *\\n * * *\\n * * * *\\n * * * * *\\n '"
      ]
     },
     "execution_count": 1,
     "metadata": {},
     "output_type": "execute_result"
    }
   ],
   "source": [
    "# Python Program to print star pattern 1\n",
    "'''\n",
    " *\n",
    " * *\n",
    " * * *\n",
    " * * * *\n",
    " * * * * *\n",
    " '''"
   ]
  },
  {
   "cell_type": "code",
   "execution_count": 2,
   "metadata": {},
   "outputs": [
    {
     "name": "stdout",
     "output_type": "stream",
     "text": [
      "Enter number of rows:5\n",
      "* \n",
      "* * \n",
      "* * * \n",
      "* * * * \n",
      "* * * * * \n"
     ]
    }
   ],
   "source": [
    "def star_pattern1(n):\n",
    "    for i in range(1, n+1):\n",
    "        for j in range(1, i + 1):\n",
    "            print(\"* \", end=\"\")\n",
    "        print()\n",
    "n = int(input(\"Enter number of rows:\"))\n",
    "star_pattern1(n)    \n"
   ]
  },
  {
   "cell_type": "code",
   "execution_count": 3,
   "metadata": {},
   "outputs": [
    {
     "name": "stdout",
     "output_type": "stream",
     "text": [
      "Enter number of rows:5\n",
      "* * * * * \n",
      "* * * * \n",
      "* * * \n",
      "* * \n",
      "* \n"
     ]
    }
   ],
   "source": [
    "# Python Program to print star pattern 2\n",
    "'''\n",
    "\n",
    "* * * * *\n",
    "* * * *\n",
    "* * *\n",
    "* *\n",
    "*\n",
    "\n",
    "'''\n",
    "def star_pattern2(n):\n",
    "    for i in range(n, 0, -1 ):\n",
    "        for j in range(1, i + 1):\n",
    "            print(\"* \", end=\"\")\n",
    "        print()\n",
    "n = int(input(\"Enter number of rows:\"))\n",
    "star_pattern2(n)"
   ]
  },
  {
   "cell_type": "code",
   "execution_count": 4,
   "metadata": {},
   "outputs": [
    {
     "name": "stdout",
     "output_type": "stream",
     "text": [
      "Enter number of rows:5\n",
      "     *\n",
      "    **\n",
      "   ***\n",
      "  ****\n",
      " *****\n"
     ]
    }
   ],
   "source": [
    "# Python Program to print star Triangle pattern 3\n",
    "'''\n",
    "     Enter number of rows:5\n",
    "     *\n",
    "    **\n",
    "   ***\n",
    "  ****\n",
    " *****\n",
    "\n",
    "'''\n",
    "def star_pattern3(n):\n",
    "    spaces = n\n",
    "    for i in range(1, n + 1):\n",
    "        for j in range(1, spaces + 1):\n",
    "            print(\" \", end=\"\")\n",
    "        for k in range(1, i + 1):\n",
    "            print(\"*\", end=\"\")\n",
    "        print()\n",
    "        spaces = spaces - 1\n",
    "n = int(input(\"Enter number of rows:\"))\n",
    "star_pattern3(n)"
   ]
  },
  {
   "cell_type": "code",
   "execution_count": 5,
   "metadata": {},
   "outputs": [
    {
     "name": "stdout",
     "output_type": "stream",
     "text": [
      "Enter number of rows:5\n",
      "     * \n",
      "    * * \n",
      "   * * * \n",
      "  * * * * \n",
      " * * * * * \n"
     ]
    }
   ],
   "source": [
    "# Python Program to print star Triangle pattern 4\n",
    "'''\n",
    "     * \n",
    "    * * \n",
    "   * * * \n",
    "  * * * * \n",
    " * * * * * \n",
    "\n",
    "'''\n",
    "def star_pattern4(n):\n",
    "    spaces = n\n",
    "    for i in range(1, n + 1):\n",
    "        for j in range(1, spaces + 1):\n",
    "            print(\" \", end=\"\")\n",
    "        for k in range(1, i + 1):\n",
    "            print(\"* \", end=\"\")\n",
    "        print()\n",
    "        spaces = spaces - 1\n",
    "n = int(input(\"Enter number of rows:\"))\n",
    "star_pattern4(n)"
   ]
  },
  {
   "cell_type": "code",
   "execution_count": 6,
   "metadata": {},
   "outputs": [
    {
     "name": "stdout",
     "output_type": "stream",
     "text": [
      "Enter number of Rows in Star Pattern:8\n",
      "              * \n",
      "             * * \n",
      "            * * * \n",
      "           * * * * \n",
      "          * * * * * \n",
      "         * * * * * * \n",
      "        * * * * * * * \n",
      "       * * * * * * * * \n"
     ]
    }
   ],
   "source": [
    "# following stars pattern\n",
    "'''\n",
    "\n",
    "Enter number of rows:8\n",
    "        *\n",
    "       * *\n",
    "      * * *\n",
    "     * * * *\n",
    "    * * * * *\n",
    "   * * * * * *\n",
    "  * * * * * * *\n",
    " * * * * * * * *\n",
    "\n",
    "'''\n",
    "def star_patterns(n):\n",
    "    space = 2 * n - 2\n",
    "    for i in range(0, n):\n",
    "        for j in range(0, space):\n",
    "            print(\" \",end=\"\")\n",
    "        space = space - 1\n",
    "        for j in range(0, i + 1):\n",
    "            print(\"*\", end=\" \")\n",
    "        print()\n",
    "n = int(input(\"Enter number of Rows in Star Pattern:\"))\n",
    "star_patterns(n)"
   ]
  },
  {
   "cell_type": "code",
   "execution_count": 7,
   "metadata": {},
   "outputs": [
    {
     "name": "stdout",
     "output_type": "stream",
     "text": [
      "Please Enter any Side of a Square  : 5\n",
      "Hollow Square Star Pattern\n",
      "* * * * * \n",
      "*       * \n",
      "*       * \n",
      "*       * \n",
      "* * * * * \n"
     ]
    }
   ],
   "source": [
    "# Python Program to Print Hollow Square 5 Star Pattern\n",
    "'''\n",
    "Please Enter any Side of a Square  : 5\n",
    "Hollow Square Star Pattern\n",
    "* * * * * \n",
    "*       * \n",
    "*       * \n",
    "*       * \n",
    "* * * * * \n",
    "\n",
    "\n",
    "'''\n",
    "side = int(input(\"Please Enter any Side of a Square  : \"))\n",
    "\n",
    "print(\"Hollow Square Star Pattern\")\n",
    "for i in range(side):\n",
    "    for j in range(side):\n",
    "        if(i == 0 or i == side-1 or j == 0 or j == side-1):\n",
    "            print('*', end = ' ')\n",
    "        else:\n",
    "            print(' ', end = ' ')\n",
    "    print()"
   ]
  },
  {
   "cell_type": "code",
   "execution_count": 8,
   "metadata": {},
   "outputs": [
    {
     "name": "stdout",
     "output_type": "stream",
     "text": [
      "Please Enter any Side of a Square  : 5\n",
      "Filled Square Star Pattern\n",
      "* * * * * \n",
      "* * * * * \n",
      "* * * * * \n",
      "* * * * * \n",
      "* * * * * \n"
     ]
    }
   ],
   "source": [
    "# Python Program to Print Filled Square Star Pattern 6\n",
    "'''\n",
    "Please Enter any Side of a Square  : 5\n",
    "Filled Square Star Pattern\n",
    "* * * * * \n",
    "* * * * * \n",
    "* * * * * \n",
    "* * * * * \n",
    "* * * * * \n",
    "\n",
    "\n",
    "'''\n",
    "side = int(input(\"Please Enter any Side of a Square  : \"))\n",
    "print(\"Filled Square Star Pattern\")\n",
    "for i in range(side):\n",
    "    for j in range(side):\n",
    "        print('*', end = ' ')\n",
    "    print()"
   ]
  },
  {
   "cell_type": "code",
   "execution_count": 9,
   "metadata": {},
   "outputs": [
    {
     "name": "stdout",
     "output_type": "stream",
     "text": [
      "Enter number of rows=5\n",
      "        * \n",
      "      * * \n",
      "    * * * \n",
      "  * * * * \n",
      "* * * * * \n",
      "  * * * * \n",
      "    * * * \n",
      "      * * \n",
      "        * \n",
      "          \n"
     ]
    }
   ],
   "source": [
    "# Program to print star patterns\n",
    "'''\n",
    "Enter number of rows=5\n",
    "        * \n",
    "      * * \n",
    "    * * * \n",
    "  * * * * \n",
    "* * * * * \n",
    "  * * * * \n",
    "    * * * \n",
    "      * * \n",
    "        * \n",
    "'''\n",
    "rows = int(input(\"Enter number of rows=\"))\n",
    "i = 1\n",
    "while i <= rows:\n",
    "    j = i\n",
    "    while j < rows:\n",
    "        print(' ', end=' ')\n",
    "        j += 1\n",
    "    k = 1\n",
    "    while k <= i:\n",
    "        print('*', end=' ')\n",
    "        k += 1\n",
    "    print()\n",
    "    i += 1\n",
    "i = rows\n",
    "while i >= 1:\n",
    "    j = i\n",
    "    while j <= rows:\n",
    "        print(' ', end=' ')\n",
    "        j += 1\n",
    "    k = 1\n",
    "    while k < i:\n",
    "        print('*', end=' ')\n",
    "        k += 1\n",
    "    print('')\n",
    "    i -= 1"
   ]
  },
  {
   "cell_type": "code",
   "execution_count": 10,
   "metadata": {},
   "outputs": [
    {
     "name": "stdout",
     "output_type": "stream",
     "text": [
      "Enter number of rows:5\n",
      "* \n",
      "* * \n",
      "* * * \n",
      "* * * * \n",
      "* * * * * \n",
      "* * * * \n",
      "* * * \n",
      "* * \n",
      "* \n"
     ]
    }
   ],
   "source": [
    "# Python Star Pattern Printing Program 8\n",
    "'''\n",
    "Enter number of rows:5\n",
    "*\n",
    "* *\n",
    "* * *\n",
    "* * * *\n",
    "* * * * *\n",
    "* * * *\n",
    "* * *\n",
    "* *\n",
    "*\n",
    "\n",
    "'''\n",
    "\n",
    "rows = int(input(\"Enter number of rows:\"))\n",
    "for i in range(1, rows+1):\n",
    "    for j in range(1, i + 1):\n",
    "        print(\"*\", end=' ')\n",
    "    print()\n",
    "\n",
    "for i in range(rows, 1, -1):\n",
    "    for j in range(1, i):\n",
    "        print(\"*\", end=' ')\n",
    "    print()"
   ]
  },
  {
   "cell_type": "code",
   "execution_count": 11,
   "metadata": {},
   "outputs": [
    {
     "name": "stdout",
     "output_type": "stream",
     "text": [
      "Enter number of Rows:5\n",
      "        * * * * * * \n",
      "         * * * * * \n",
      "          * * * * \n",
      "           * * * \n",
      "            * * \n",
      "             * \n"
     ]
    }
   ],
   "source": [
    "#Python Print star pattern 9\n",
    "'''\n",
    "Enter number of Rows:5\n",
    "        * * * * * *\n",
    "         * * * * *\n",
    "          * * * *\n",
    "           * * *\n",
    "            * *\n",
    "             *\n",
    "\n",
    "'''\n",
    "\n",
    "rows = int(input(\"Enter number of Rows:\"))\n",
    "space = 2 * rows - 2\n",
    "for i in range(rows, -1, -1):\n",
    "    for j in range(space, 0, -1):\n",
    "        print(end=\" \")\n",
    "    space += 1\n",
    "    for j in range(0, i + 1):\n",
    "        print(\"*\", end=\" \")\n",
    "    print(\"\")"
   ]
  },
  {
   "cell_type": "code",
   "execution_count": 12,
   "metadata": {},
   "outputs": [
    {
     "name": "stdout",
     "output_type": "stream",
     "text": [
      "Enter number of Rows:5\n",
      "* * * * * \n",
      " * * * * \n",
      "  * * * \n",
      "   * * \n",
      "    * \n",
      "   * * \n",
      "  * * * \n",
      " * * * * \n",
      "* * * * * \n"
     ]
    }
   ],
   "source": [
    "# Write a Python program\n",
    "# star pattern 10\n",
    "'''\n",
    "Enter number of Rows:5\n",
    "* * * * * \n",
    " * * * * \n",
    "  * * * \n",
    "   * * \n",
    "    * \n",
    "   * * \n",
    "  * * * \n",
    " * * * * \n",
    "* * * * * \n",
    "'''\n",
    "\n",
    "rows = int(input(\"Enter number of Rows:\"))\n",
    "\n",
    "for i in range(1,rows):\n",
    "    for j in range(1,i):\n",
    "        print('', end=' ')\n",
    "\n",
    "    k = i\n",
    "    for k in range(i,rows+1):\n",
    "        print('*', end=' ')\n",
    "\n",
    "    print()\n",
    "\n",
    "\n",
    "i = rows - 1\n",
    "while i >= 0:\n",
    "    j = 0\n",
    "    while j < i:\n",
    "        print('', end=' ')\n",
    "        j += 1\n",
    "    k = i\n",
    "    while k <= rows - 1:\n",
    "        print('*', end=' ')\n",
    "        k += 1\n",
    "    print('')\n",
    "    i -= 1"
   ]
  },
  {
   "cell_type": "code",
   "execution_count": 13,
   "metadata": {},
   "outputs": [
    {
     "name": "stdout",
     "output_type": "stream",
     "text": [
      "****************\n",
      "*******  *******\n",
      "******    ******\n",
      "*****      *****\n",
      "****        ****\n",
      "***          ***\n",
      "**            **\n",
      "*              *\n"
     ]
    }
   ],
   "source": [
    "# Print Trouser star Pattern 11 Python program\n",
    "'''\n",
    "****************\n",
    "*******  *******\n",
    "******    ******\n",
    "*****      *****\n",
    "****        ****\n",
    "***          ***\n",
    "**            **\n",
    "*              *\n",
    "'''\n",
    "n = 16\n",
    "print(\"*\" * n, end=\"\\n\")\n",
    "i = (n // 2) - 1\n",
    "j = 2\n",
    "while i != 0:\n",
    "    while j <= (n - 2):\n",
    "        print(\"*\" * i, end=\"\")\n",
    "\n",
    "        print(\" \" * j, end=\"\")\n",
    "        print(\"*\" * i)\n",
    "        i = i - 1\n",
    "        j = j + 2"
   ]
  },
  {
   "cell_type": "code",
   "execution_count": 14,
   "metadata": {},
   "outputs": [
    {
     "name": "stdout",
     "output_type": "stream",
     "text": [
      "****************\n",
      "*******--*******\n",
      "******----******\n",
      "*****------*****\n",
      "****--------****\n",
      "***----------***\n",
      "**------------**\n",
      "*--------------*\n"
     ]
    }
   ],
   "source": [
    "# Print Trouser star Lines Pattern 12 Python program\n",
    "'''\n",
    "****************\n",
    "*******--*******\n",
    "******----******\n",
    "*****------*****\n",
    "****--------****\n",
    "***----------***\n",
    "**------------**\n",
    "*--------------*\n",
    "'''\n",
    "n = 16\n",
    "print(\"*\" * n, end=\"\\n\")\n",
    "i = (n // 2) - 1\n",
    "j = 2\n",
    "while i != 0:\n",
    "    while j <= (n - 2):\n",
    "        print(\"*\" * i, end=\"\")\n",
    "\n",
    "        print(\"-\" * j, end=\"\")\n",
    "        print(\"*\" * i)\n",
    "        i = i - 1\n",
    "        j = j + 2"
   ]
  },
  {
   "cell_type": "code",
   "execution_count": 15,
   "metadata": {},
   "outputs": [
    {
     "name": "stdout",
     "output_type": "stream",
     "text": [
      "Enter number of rows:5\n",
      "        * \n",
      "       * * \n",
      "      * * * \n",
      "     * * * * \n",
      "    * * * * * \n",
      "   * * * * * * \n",
      "    * * * * * \n",
      "     * * * * \n",
      "      * * * \n",
      "       * * \n",
      "        * \n"
     ]
    }
   ],
   "source": [
    "#Python progrm Print star Diamond 13\n",
    "'''\n",
    "Enter number of rows:5\n",
    "        *\n",
    "       * *\n",
    "      * * *\n",
    "     * * * *\n",
    "    * * * * *\n",
    "   * * * * * * \n",
    "    * * * * *\n",
    "     * * * *\n",
    "      * * *\n",
    "       * *\n",
    "        *\n",
    "'''\n",
    "rows = int(input(\"Enter number of rows:\"))\n",
    "space = 2 * rows - 2\n",
    "for i in range(0, rows):\n",
    "    for j in range(0, space):\n",
    "        print(end=\" \")\n",
    "    space = space - 1\n",
    "    for j in range(0, i + 1):\n",
    "        print(\"* \", end=\"\")\n",
    "    print(\"\")\n",
    "\n",
    "space = rows - 2\n",
    "\n",
    "for i in range(rows, -1, -1):\n",
    "    for j in range(space, 0, -1):\n",
    "        print(end=\" \")\n",
    "    space = space + 1\n",
    "    for j in range(0, i + 1):\n",
    "        print(\"* \", end=\"\")\n",
    "    print(\"\")"
   ]
  },
  {
   "cell_type": "code",
   "execution_count": 16,
   "metadata": {},
   "outputs": [
    {
     "name": "stdout",
     "output_type": "stream",
     "text": [
      "        * \n",
      "      *   *\n",
      "    *       *\n",
      "  *           *\n",
      "*               *\n",
      "  *           *\n",
      "    *       *\n",
      "      *   *\n",
      "        * \n"
     ]
    }
   ],
   "source": [
    "#Python Hollow Star Diamond Pattern 14\n",
    "'''\n",
    "        * \n",
    "      *   *\n",
    "    *       *\n",
    "  *           *\n",
    "*               *\n",
    "  *           *\n",
    "    *       *\n",
    "      *   *\n",
    "        * \n",
    "'''\n",
    "\n",
    "rows = 5\n",
    "i = 1\n",
    "while i <= rows:\n",
    "    j = rows\n",
    "    while j > i:\n",
    "        # display space\n",
    "        print(' ', end=' ')\n",
    "        j -= 1\n",
    "    print('*', end=' ')\n",
    "    k = 1\n",
    "    while k < 2 * (i - 1):\n",
    "        print(' ', end=' ')\n",
    "        k += 1\n",
    "    if i == 1:\n",
    "        print()\n",
    "    else:\n",
    "        print('*')\n",
    "    i += 1\n",
    "\n",
    "i = rows - 1\n",
    "while i >= 1:\n",
    "    j = rows\n",
    "    while j > i:\n",
    "        print(' ', end=' ')\n",
    "        j -= 1\n",
    "    print('*', end=' ')\n",
    "    k = 1\n",
    "    while k <= 2 * (i - 1)-1:\n",
    "        print(' ', end=' ')\n",
    "        k += 1\n",
    "    if i == 1:\n",
    "        print()\n",
    "    else:\n",
    "        print('*')\n",
    "    i -= 1"
   ]
  },
  {
   "cell_type": "code",
   "execution_count": null,
   "metadata": {},
   "outputs": [],
   "source": []
  }
 ],
 "metadata": {
  "kernelspec": {
   "display_name": "Python 3",
   "language": "python",
   "name": "python3"
  },
  "language_info": {
   "codemirror_mode": {
    "name": "ipython",
    "version": 3
   },
   "file_extension": ".py",
   "mimetype": "text/x-python",
   "name": "python",
   "nbconvert_exporter": "python",
   "pygments_lexer": "ipython3",
   "version": "3.8.3"
  }
 },
 "nbformat": 4,
 "nbformat_minor": 4
}
